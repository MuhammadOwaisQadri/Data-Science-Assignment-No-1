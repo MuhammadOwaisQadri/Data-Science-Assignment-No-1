{
  "nbformat": 4,
  "nbformat_minor": 0,
  "metadata": {
    "colab": {
      "name": "Untitled1.ipynb",
      "provenance": [],
      "authorship_tag": "ABX9TyNEw5TvrJ8jKRiM++Ui/yz/",
      "include_colab_link": true
    },
    "kernelspec": {
      "name": "python3",
      "display_name": "Python 3"
    },
    "language_info": {
      "name": "python"
    }
  },
  "cells": [
    {
      "cell_type": "markdown",
      "metadata": {
        "id": "view-in-github",
        "colab_type": "text"
      },
      "source": [
        "<a href=\"https://colab.research.google.com/github/MuhammadOwaisQadri/Data-Science-Assignment-No-1/blob/main/Untitled1.ipynb\" target=\"_parent\"><img src=\"https://colab.research.google.com/assets/colab-badge.svg\" alt=\"Open In Colab\"/></a>"
      ]
    },
    {
      "cell_type": "code",
      "execution_count": null,
      "metadata": {
        "colab": {
          "base_uri": "https://localhost:8080/"
        },
        "id": "zA3jLigRIr7j",
        "outputId": "f6d689c0-7510-4cdb-f3b5-0d15fbb74d32"
      },
      "outputs": [
        {
          "output_type": "stream",
          "name": "stdout",
          "text": [
            "Twinkle, twinkle, little star\n",
            "\tHow I wonder what you are!\n",
            "\t\tUp above the word so high,\n",
            "\t\tLike a diamand in the sky.\n",
            "Twinkle, twinkle, little star\n",
            "\tHow I wonder what you are \n"
          ]
        }
      ],
      "source": [
        "#Data Science Assignment No # 1\n",
        "print(\"Twinkle, twinkle, little star\\n\\tHow I wonder what you are!\\n\\t\\tUp above the word so high,\\n\\t\\tLike a diamand in the sky.\\nTwinkle, twinkle, little star\\n\\tHow I wonder what you are \" )"
      ]
    },
    {
      "cell_type": "code",
      "source": [
        "import sys\n",
        "print (\"Python version:\",sys.version)"
      ],
      "metadata": {
        "colab": {
          "base_uri": "https://localhost:8080/"
        },
        "id": "tN4WWcdxPs3x",
        "outputId": "e153f5de-8afa-470c-da63-8c0d9911a4d2"
      },
      "execution_count": null,
      "outputs": [
        {
          "output_type": "stream",
          "name": "stdout",
          "text": [
            "Python version: 3.7.12 (default, Sep 10 2021, 00:21:48) \n",
            "[GCC 7.5.0]\n"
          ]
        }
      ]
    },
    {
      "cell_type": "code",
      "source": [
        "import datetime\n",
        "print(datetime.datetime.now())"
      ],
      "metadata": {
        "colab": {
          "base_uri": "https://localhost:8080/"
        },
        "id": "HEz2qExzQEyw",
        "outputId": "cbd0b9cb-dd86-4cc0-e77f-8ac89cdea7f8"
      },
      "execution_count": null,
      "outputs": [
        {
          "output_type": "stream",
          "name": "stdout",
          "text": [
            "2021-12-30 20:23:34.419702\n"
          ]
        }
      ]
    },
    {
      "cell_type": "code",
      "source": [
        "from math import pi\n",
        "r = float(input (\"Input the radius of the circle : \"))\n",
        "print (\"The area of the circle with radius \" + str(r) + \" is: \" + str(pi * r**2))"
      ],
      "metadata": {
        "colab": {
          "base_uri": "https://localhost:8080/"
        },
        "id": "HDjyTuwoQ5cB",
        "outputId": "e3d4991d-8d13-484e-d0a5-f09750dbfaf3"
      },
      "execution_count": null,
      "outputs": [
        {
          "output_type": "stream",
          "name": "stdout",
          "text": [
            "Input the radius of the circle : 2\n",
            "The area of the circle with radius 2.0 is: 12.566370614359172\n"
          ]
        }
      ]
    },
    {
      "cell_type": "code",
      "source": [
        "a = input('Enter firstname: ')\n",
        "b = input('Enter lastname: ')\n",
        "print(b+\" \"+a)"
      ],
      "metadata": {
        "id": "qwBQPyfoSdPB",
        "colab": {
          "base_uri": "https://localhost:8080/"
        },
        "outputId": "8dcd5f32-4105-4a81-86c1-b3c321e47a75"
      },
      "execution_count": null,
      "outputs": [
        {
          "output_type": "stream",
          "name": "stdout",
          "text": [
            "Enter firstname: Owais\n",
            "Enter lastname: Qadri\n",
            "Qadri Owais\n"
          ]
        }
      ]
    },
    {
      "cell_type": "code",
      "source": [
        "a = int(input(\"Enter a Number: \"))\n",
        "b = int(input(\"Enter a Number: \"))\n",
        "sum = a+b\n",
        "print(\"The Adition of a and b is:\",sum)"
      ],
      "metadata": {
        "id": "15TsBCwACU3G",
        "colab": {
          "base_uri": "https://localhost:8080/"
        },
        "outputId": "8ed97cae-5777-4f29-ac73-35567641e601"
      },
      "execution_count": 14,
      "outputs": [
        {
          "output_type": "stream",
          "name": "stdout",
          "text": [
            "Enter a Number: 23\n",
            "Enter a Number: 22\n",
            "The Adition of a and b is: 45\n"
          ]
        }
      ]
    }
  ]
}